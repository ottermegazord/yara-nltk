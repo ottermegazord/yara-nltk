{
 "cells": [
  {
   "cell_type": "markdown",
   "metadata": {
    "collapsed": true
   },
   "source": [
    "Tutorial 5"
   ]
  },
  {
   "cell_type": "markdown",
   "metadata": {},
   "source": [
    "Linear Regression (Gradient Descent)"
   ]
  },
  {
   "cell_type": "code",
   "execution_count": null,
   "metadata": {},
   "outputs": [],
   "source": [
    "import matplotlib.pyplot as plt\n",
    "import numpy as np\n",
    "import pandas as pd"
   ]
  },
  {
   "cell_type": "markdown",
   "metadata": {},
   "source": [
    "Load dataset"
   ]
  },
  {
   "cell_type": "code",
   "execution_count": null,
   "metadata": {},
   "outputs": [],
   "source": [
    "\"\"\"Load Dataset\"\"\"\n",
    "\n",
    "def getData(csvfile):\n",
    "    csv = pd.read_csv(csvfile, delimiter=\",\")\n",
    "    csv.insert(0, 'Ones', 1)\n",
    "    csv.drop(csv.columns[0], axis=1)\n",
    "    data = csv.loc[:,'TV': 'Sales':1]\n",
    "    data.insert(0, 'Ones', 1)\n",
    "    return data\n",
    "\n",
    "\n",
    "#create data frame to store log values\n",
    "data = getData('data/Advertising.csv')\n",
    "cols = data.shape[1]\n",
    "\n",
    "X = np.array(data.iloc[:, 0:2]).reshape(200, 2)\n",
    "y = np.array(data.iloc[:, 4]).reshape(200,1)"
   ]
  },
  {
   "cell_type": "markdown",
   "metadata": {},
   "source": [
    "Define cost function: Mean Square Error"
   ]
  },
  {
   "cell_type": "code",
   "execution_count": null,
   "metadata": {},
   "outputs": [],
   "source": [
    "def cost_function(X, y, w):\n",
    "    \"\"\"\n",
    "    :param X: rows of X input (including constants)\n",
    "    :param y: rows of Y output\n",
    "    :param w: weight matrix\n",
    "    :return: cost\n",
    "    \"\"\"\n",
    "    \n",
    "    #TODO\n",
    "\n",
    "    return cost"
   ]
  },
  {
   "cell_type": "markdown",
   "metadata": {},
   "source": [
    "Create gradient descent function"
   ]
  },
  {
   "cell_type": "code",
   "execution_count": null,
   "metadata": {},
   "outputs": [],
   "source": [
    "def gradient_descent(X, Y, w, alpha, iterations):\n",
    "    \"\"\"\n",
    "    :param X: rows of X input (including constants)\n",
    "    :param y: rows of Y output\n",
    "    :param w: start point weight matrix\n",
    "    :param alpha: learning rate\n",
    "    :param iterations: number of iterations\n",
    "    :return: \n",
    "    \"\"\"\n",
    "    # Sample size\n",
    "    m = len(Y)\n",
    "\n",
    "    for iteration in range(iterations):\n",
    "        #TODO\n",
    "    \n",
    "    \n",
    "        cost = cost_function(X, Y, w)\n",
    "        print(\"iter: %i, cost: %.3f\" % (iteration, cost))\n",
    "    \n",
    "    return w, cost"
   ]
  },
  {
   "cell_type": "markdown",
   "metadata": {},
   "source": []
  },
  {
   "cell_type": "code",
   "execution_count": null,
   "metadata": {},
   "outputs": [],
   "source": [
    "learning_rate = [1e-7. 2e-7, 1e-8, 1e-9]\n",
    "iters = 1000\n",
    "w = np.random.randn(2,1)"
   ]
  },
  {
   "cell_type": "markdown",
   "metadata": {},
   "source": [
    "Plot graphs"
   ]
  },
  {
   "cell_type": "code",
   "execution_count": null,
   "metadata": {},
   "outputs": [],
   "source": [
    "plt.figure()\n",
    "\n",
    "for alpha in learning_rate:\n",
    "\n",
    "    w_new, cost = (gradient_descent(X, y, w, alpha, iters))\n",
    "    print (cost)\n",
    "\n",
    "    plt.plot(X[:,1], w_new[1]*X[:,1] + w_new[0], label=alpha)\n",
    "\n",
    "plt.scatter(X[:,1], y, label = 'raw_scores', color='black')\n",
    "plt.axis([0, 300, 0, 25])\n",
    "plt.legend()\n",
    "plt.show()"
   ]
  }
 ],
 "metadata": {
  "kernelspec": {
   "display_name": "Python 2",
   "language": "python",
   "name": "python2"
  },
  "language_info": {
   "codemirror_mode": {
    "name": "ipython",
    "version": 2
   },
   "file_extension": ".py",
   "mimetype": "text/x-python",
   "name": "python",
   "nbconvert_exporter": "python",
   "pygments_lexer": "ipython2",
   "version": "2.7.6"
  }
 },
 "nbformat": 4,
 "nbformat_minor": 0
}
