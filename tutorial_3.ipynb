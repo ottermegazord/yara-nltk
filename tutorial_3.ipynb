{
 "cells": [
  {
   "cell_type": "markdown",
   "metadata": {
    "collapsed": true
   },
   "source": [
    "Tutorial 1: Summarizing texts"
   ]
  },
  {
   "cell_type": "markdown",
   "metadata": {},
   "source": [
    "Import libraries\n"
   ]
  },
  {
   "cell_type": "code",
   "execution_count": null,
   "metadata": {},
   "outputs": [],
   "source": [
    "from nltk.corpus import stopwords\n",
    "from nltk.tokenize import word_tokenize, sent_tokenize\n",
    "from nltk.stem.snowball import SnowballStemmer"
   ]
  },
  {
   "cell_type": "markdown",
   "metadata": {},
   "source": [
    "Load corpus"
   ]
  },
  {
   "cell_type": "code",
   "execution_count": null,
   "metadata": {},
   "outputs": [],
   "source": [
    "text = \"\"\"\n",
    "\n",
    "The blood-testing firm Theranos has announced it will formally dissolve, after failing to secure further investment or attract a buyer for its assets. In an email to shareholders obtained by The Wall Street Journal, Theranos chief executive David Taylor said he had engaged the services of investment bank Jeffries to try to “maximise the value of the company”. Although the bank had talked to more than 80 potential buyers, he said, there had been no offers.\n",
    "\n",
    "It marks a dramatic fall for a company once universally hailed by Wall Street and the medical profession - and valued at $9bn (£7bn).\n",
    "\n",
    "Founded in 2003 by 19-year-old Elizabeth Holmes, Theranos had claimed its “revolutionary” Edison devices could test for conditions such as cancer and cholesterol with only a few drops of blood from a finger-prick, rather than taking full blood samples by needle from a vein.\n",
    "\n",
    "Despite lingering concerns about the reliability of the Theranos blood-testing technology, Holmes managed to raise $700m (£542m) in funding, including from Oracle co-founder Larry Ellison and Rupert Murdoch.\n",
    "\n",
    "She had also assembled what The Independent calls “an all-star board” which included current US Defense Secretary James Mattis, and two former secretaries of state — Henry Kissinger and George Shultz.\n",
    "\n",
    "In 2015, Forbes named her the world’s youngest self-made billionaire, with an estimated personal fortune of $4.5bn (£3.5bn).\n",
    "\n",
    "However, things started to fall apart in 2012, when the US Department of Defense decided not to develop the technology due to the devices' unpredictable results.\n",
    "\n",
    "This prompted a Wall Street Journal investigation of the firm, resulting in a series of exposes published from October 2015.\n",
    "\n",
    "Theranos denounced these articles, but by June 2016 it was facing legal challenges from investors, medical authorities and five federal agencies. By April 2017, its clinical laboratory testing certificate was revoked, causing the pharmacy chain Walgreens to terminate its partnership with the start-up and sue Theranos for $140m (£108m).\n",
    "\n",
    "In June, Holmes and her business partner Ramesh Balwani were charged by the US Department of Justice, which alleges Theranos’ blood tests produce inaccurate results which put patients at risk, with two counts of conspiracy to commit wire fraud and nine counts of wire fraud.\n",
    "\n",
    "Earlier this year, Holmes settled a separate civil suit filed by US financial regulator, the Securities and Exchange Commission, which claimed she had deceived investors about the firm's technology and falsely suggested its products had been used by the US Army in Afghanistan.\n",
    "\n",
    "“The Theranos story is an important lesson for Silicon Valley,” said Jina Choi, director of the SEC’s San Francisco office, when the settlement was announced. “Innovators who seek to revolutionise and disrupt an industry must tell investors the truth about what their technology can do today, not just what they hope it might do someday.”\n",
    "\n",
    "“Theranos is an example of hubris, sloppy reporting, and too-credulous investors” says The Verge, which claims investors have lost in excess of $1bn in total. “The world would like to believe that Theranos was a wake-up call, but as many have said: it probably won’t be”.  \"\"\"\n"
   ]
  },
  {
   "cell_type": "markdown",
   "metadata": {},
   "source": [
    "Create stemmer and stopwords objects"
   ]
  },
  {
   "cell_type": "code",
   "execution_count": null,
   "metadata": {},
   "outputs": [],
   "source": [
    "stemmer = SnowballStemmer(\"english\")\n",
    "stopWords = set(stopwords.words(\"english\"))\n",
    "words = word_tokenize(text)"
   ]
  },
  {
   "cell_type": "markdown",
   "metadata": {},
   "source": [
    "Create dictionary to store frequency of words"
   ]
  },
  {
   "cell_type": "code",
   "execution_count": null,
   "metadata": {},
   "outputs": [],
   "source": [
    "freqTable = dict()"
   ]
  },
  {
   "cell_type": "markdown",
   "metadata": {},
   "source": [
    "Lower the case of each of the words in the corpus, ignoring stopwords. If they are not stopwords, stem them. Then, count the number of times each of these words appear in the corpus, and store this value in a dictionary"
   ]
  },
  {
   "cell_type": "code",
   "execution_count": null,
   "metadata": {},
   "outputs": [],
   "source": [
    "#TODO"
   ]
  },
  {
   "cell_type": "markdown",
   "metadata": {},
   "source": [
    "Tokenize each sentence of the corpus"
   ]
  },
  {
   "cell_type": "code",
   "execution_count": null,
   "metadata": {},
   "outputs": [],
   "source": [
    "sentences = sent_tokenize(text)\n",
    "sentenceValue = dict()\n"
   ]
  },
  {
   "cell_type": "markdown",
   "metadata": {},
   "source": [
    "We define value as the frequency of non-stopwords for each sentence. I.e. the more the non-stop words in each sentence, the higher the value. For each sentence in corpus, count the number of sentences with the same frequency of words. Hint: The frequency of each word, and the word itself, can be found in the freqTable. What you have to do is to look at each sentence in "
   ]
  },
  {
   "cell_type": "code",
   "execution_count": null,
   "metadata": {},
   "outputs": [],
   "source": [
    "for sentence in sentences:\n",
    "    for word, freq in freqTable.items():\n",
    "        if word in sentence.lower():\n",
    "            if sentence in sentenceValue:\n",
    "                #TODO\n",
    "            else:\n",
    "                #TODO"
   ]
  },
  {
   "cell_type": "code",
   "execution_count": null,
   "metadata": {},
   "outputs": [],
   "source": [
    "Find the average value of the sentences in the corpus"
   ]
  },
  {
   "cell_type": "code",
   "execution_count": null,
   "metadata": {},
   "outputs": [],
   "source": [
    "sumValues = 0\n",
    "for sentence in sentenceValue:\n",
    "    sumValues += sentenceValue[sentence]"
   ]
  },
  {
   "cell_type": "markdown",
   "metadata": {},
   "source": [
    "Find the average value of a sentence from original text"
   ]
  },
  {
   "cell_type": "code",
   "execution_count": null,
   "metadata": {},
   "outputs": [],
   "source": [
    "#TODO\n",
    "average = 0 # TODO"
   ]
  },
  {
   "cell_type": "markdown",
   "metadata": {},
   "source": [
    "Define threshold of summary"
   ]
  },
  {
   "cell_type": "code",
   "execution_count": null,
   "metadata": {},
   "outputs": [],
   "source": [
    "THRESHOLD = 0.5"
   ]
  },
  {
   "cell_type": "markdown",
   "metadata": {},
   "source": [
    "Concatenate sentences that are above threshold"
   ]
  },
  {
   "cell_type": "code",
   "execution_count": null,
   "metadata": {},
   "outputs": [],
   "source": [
    "for sentence in sentences:\n",
    "    if (sentence in sentenceValue) and (sentenceValue[sentence] > (THRESHOLD * average)):\n",
    "        summary += \" \" + sentence\n"
   ]
  },
  {
   "cell_type": "markdown",
   "metadata": {},
   "source": [
    "Print your summary"
   ]
  },
  {
   "cell_type": "code",
   "execution_count": null,
   "metadata": {},
   "outputs": [],
   "source": [
    "print(summary)"
   ]
  }
 ],
 "metadata": {
  "kernelspec": {
   "display_name": "Python 2",
   "language": "python",
   "name": "python2"
  },
  "language_info": {
   "codemirror_mode": {
    "name": "ipython",
    "version": 2
   },
   "file_extension": ".py",
   "mimetype": "text/x-python",
   "name": "python",
   "nbconvert_exporter": "python",
   "pygments_lexer": "ipython2",
   "version": "2.7.15"
  }
 },
 "nbformat": 4,
 "nbformat_minor": 1
}
